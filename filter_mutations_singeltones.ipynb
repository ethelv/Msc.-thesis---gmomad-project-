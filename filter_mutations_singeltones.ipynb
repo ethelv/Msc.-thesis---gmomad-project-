{
 "cells": [
  {
   "cell_type": "code",
   "execution_count": 186,
   "metadata": {
    "collapsed": true
   },
   "outputs": [],
   "source": [
    "\n",
    "from pymongo import MongoClient\n",
    "import pandas as pd\n",
    "\n",
    "client = MongoClient(\"mongodb://localhost:27017/\")\n",
    "database = client[\"Research\"]\n",
    "col_var = database[\"Variants\"]\n"
   ]
  },
  {
   "cell_type": "code",
   "execution_count": 187,
   "metadata": {
    "collapsed": true
   },
   "outputs": [],
   "source": [
    "chrom_list = [1,2,3,4,5,6,7,8,9,10,11,12,13,14,15,16,17,18,19,20,21,22,\"X\",\"Y\"]\n",
    "\n",
    "singleton_all = []"
   ]
  },
  {
   "cell_type": "code",
   "execution_count": null,
   "metadata": {
    "collapsed": true
   },
   "outputs": [],
   "source": []
  },
  {
   "cell_type": "code",
   "execution_count": 188,
   "metadata": {
    "collapsed": true
   },
   "outputs": [],
   "source": [
    "for chr in chrom_list: \n",
    "    \n",
    "    pipeline= [\n",
    "     {\n",
    "        u\"$match\": {\n",
    "            u\"AC\": 1.0,\n",
    "            u\"FILTER\": u\"PASS\",\n",
    "            u\"CHROM\": chr\n",
    "        }\n",
    "    }, \n",
    "    {\n",
    "        u\"$project\": {\n",
    "            u\"AN\": 1.0,\n",
    "            u\"vep_dictionary\": 1.0,\n",
    "            u\"FILTER\": 1.0,\n",
    "            u\"POS\": 1.0,\n",
    "            u\"AN_male\": 1.0,\n",
    "            u\"AN_female\": 1.0,\n",
    "            u\"AC\": 1.0,\n",
    "            u\"AC_male\": 1.0,\n",
    "            u\"AC_female\": 1.0\n",
    "        }\n",
    "    }, \n",
    "    {\n",
    "        u\"$lookup\": {\n",
    "            u\"from\": u\"Coverage\",\n",
    "            u\"localField\": u\"POS\",\n",
    "            u\"foreignField\": u\"pos\",\n",
    "            u\"as\": u\"med_coverage\"\n",
    "        }\n",
    "    }, \n",
    "    {\n",
    "        u\"$unwind\": {\n",
    "            u\"path\": u\"$med_coverage\"\n",
    "        }\n",
    "    }, \n",
    "    {\n",
    "        u\"$match\": {\n",
    "            u\"med_coverage.median\": {\n",
    "                u\"$gte\": 1.0\n",
    "            },\n",
    "            u\"med_coverage.chrom\": chr\n",
    "        }\n",
    "    }, \n",
    "    {\n",
    "        u\"$group\": {\n",
    "            u\"_id\": {\n",
    "                u\"Gene\": u\"$vep_dictionary.Feature\",\n",
    "                u\"Consequence\": u\"$vep_dictionary.Consequence\"\n",
    "            },\n",
    "            u\"sum_AN_male\": {\n",
    "                u\"$sum\": u\"$AN_male\"\n",
    "            },\n",
    "            u\"sum_AN_female\": {\n",
    "                u\"$sum\": u\"$AN_female\"\n",
    "            },\n",
    "            u\"sum_AC_female\": {\n",
    "                u\"$sum\": u\"$AC_female\"\n",
    "            },\n",
    "            u\"sum_AC_male\": {\n",
    "                u\"$sum\": u\"$AC_male\"\n",
    "            },\n",
    "            u\"sum_AC\": {\n",
    "                u\"$sum\": u\"$AC\"\n",
    "            },\n",
    "            u\"count\": {\n",
    "                u\"$sum\": 1.0\n",
    "            }\n",
    "        }\n",
    "    }\n",
    "    ]\n",
    "    \n",
    "    result = col_var.aggregate(pipeline)\n",
    "    #list(result)\n",
    "    result_df= pd.DataFrame(data = result)\n",
    "    result_df['CHROM'] = str(chr)\n",
    "    singleton_all.append(result_df)\n",
    "\n"
   ]
  },
  {
   "cell_type": "code",
   "execution_count": null,
   "metadata": {
    "collapsed": true
   },
   "outputs": [],
   "source": []
  },
  {
   "cell_type": "code",
   "execution_count": 190,
   "metadata": {
    "collapsed": true
   },
   "outputs": [],
   "source": [
    "all_chrom = pd.concat(singleton_all)\n"
   ]
  },
  {
   "cell_type": "code",
   "execution_count": 192,
   "metadata": {},
   "outputs": [
    {
     "name": "stdout",
     "output_type": "stream",
     "text": [
      "242326\n",
      "242325\n"
     ]
    }
   ],
   "source": [
    "all_chrom= all_chrom[all_chrom._id != {}]\n"
   ]
  },
  {
   "cell_type": "code",
   "execution_count": null,
   "metadata": {
    "collapsed": true
   },
   "outputs": [],
   "source": []
  },
  {
   "cell_type": "code",
   "execution_count": 193,
   "metadata": {
    "collapsed": true
   },
   "outputs": [],
   "source": [
    "gene= []\n",
    "Consequence= []\n",
    "for i in range(len(all_chrom.iloc[:,0])):\n",
    "    gene.append(all_chrom.iloc[i,0]['Gene'])\n",
    "    Consequence.append(all_chrom.iloc[i,0]['Consequence'])\n",
    "\n",
    "all_chrom['Gene']= gene\n",
    "all_chrom['Consequence']= Consequence\n"
   ]
  },
  {
   "cell_type": "code",
   "execution_count": 194,
   "metadata": {
    "collapsed": true
   },
   "outputs": [],
   "source": [
    "cols = all_chrom.columns.tolist()\n",
    "cols = cols[-1:] + cols[:-1]\n",
    "cols = cols[-1:] + cols[:-1]\n",
    "\n",
    "all_chrom = all_chrom[cols]"
   ]
  },
  {
   "cell_type": "code",
   "execution_count": 195,
   "metadata": {},
   "outputs": [
    {
     "name": "stdout",
     "output_type": "stream",
     "text": [
      "                Gene                           Consequence  \\\n",
      "0    ENST00000370500                        intron_variant   \n",
      "1    ENST00000264126                   3_prime_UTR_variant   \n",
      "2    ENST00000295566  splice_region_variant&intron_variant   \n",
      "3    ENST00000344843  splice_region_variant&intron_variant   \n",
      "4    ENST00000355356                    synonymous_variant   \n",
      "..               ...                                   ...   \n",
      "187  ENST00000338981                  splice_donor_variant   \n",
      "188  ENST00000317961                    frameshift_variant   \n",
      "189  ENST00000215479                    frameshift_variant   \n",
      "190  ENST00000288666                    synonymous_variant   \n",
      "191  ENST00000338981  splice_region_variant&intron_variant   \n",
      "\n",
      "                                                   _id  sum_AN_male  \\\n",
      "0    {'Gene': 'ENST00000370500', 'Consequence': 'in...     10252506   \n",
      "1    {'Gene': 'ENST00000264126', 'Consequence': '3_...      1068120   \n",
      "2    {'Gene': 'ENST00000295566', 'Consequence': 'sp...      3359190   \n",
      "3    {'Gene': 'ENST00000344843', 'Consequence': 'sp...      2138212   \n",
      "4    {'Gene': 'ENST00000355356', 'Consequence': 'sy...      4955672   \n",
      "..                                                 ...          ...   \n",
      "187  {'Gene': 'ENST00000338981', 'Consequence': 'sp...        56584   \n",
      "188  {'Gene': 'ENST00000317961', 'Consequence': 'fr...       605191   \n",
      "189  {'Gene': 'ENST00000215479', 'Consequence': 'fr...       135293   \n",
      "190  {'Gene': 'ENST00000288666', 'Consequence': 'sy...      1011435   \n",
      "191  {'Gene': 'ENST00000338981', 'Consequence': 'sp...      1647610   \n",
      "\n",
      "     sum_AN_female  sum_AC_female  sum_AC_male  sum_AC  count CHROM  \n",
      "0          8654438             37           43      80   80.0     1  \n",
      "1           898186              3            5       8    8.0     1  \n",
      "2          2856228              6           19      25   25.0     1  \n",
      "3          1811152              8            8      16   16.0     1  \n",
      "4          4156118             15           23      38   38.0     1  \n",
      "..             ...            ...          ...     ...    ...   ...  \n",
      "187              0              0            1       1    1.0     Y  \n",
      "188              0              0            9       9    9.0     Y  \n",
      "189              0              0            2       2    2.0     Y  \n",
      "190              0              0           15      15   15.0     Y  \n",
      "191              0              0           26      26   26.0     Y  \n",
      "\n",
      "[242325 rows x 10 columns]\n"
     ]
    }
   ],
   "source": [
    "all_chrom.head()"
   ]
  },
  {
   "cell_type": "code",
   "execution_count": 196,
   "metadata": {},
   "outputs": [
    {
     "name": "stdout",
     "output_type": "stream",
     "text": [
      "                Gene                           Consequence  sum_AN_male  \\\n",
      "0    ENST00000370500                        intron_variant     10252506   \n",
      "1    ENST00000264126                   3_prime_UTR_variant      1068120   \n",
      "2    ENST00000295566  splice_region_variant&intron_variant      3359190   \n",
      "3    ENST00000344843  splice_region_variant&intron_variant      2138212   \n",
      "4    ENST00000355356                    synonymous_variant      4955672   \n",
      "..               ...                                   ...          ...   \n",
      "187  ENST00000338981                  splice_donor_variant        56584   \n",
      "188  ENST00000317961                    frameshift_variant       605191   \n",
      "189  ENST00000215479                    frameshift_variant       135293   \n",
      "190  ENST00000288666                    synonymous_variant      1011435   \n",
      "191  ENST00000338981  splice_region_variant&intron_variant      1647610   \n",
      "\n",
      "     sum_AN_female  sum_AC_female  sum_AC_male  sum_AC  count CHROM  \n",
      "0          8654438             37           43      80   80.0     1  \n",
      "1           898186              3            5       8    8.0     1  \n",
      "2          2856228              6           19      25   25.0     1  \n",
      "3          1811152              8            8      16   16.0     1  \n",
      "4          4156118             15           23      38   38.0     1  \n",
      "..             ...            ...          ...     ...    ...   ...  \n",
      "187              0              0            1       1    1.0     Y  \n",
      "188              0              0            9       9    9.0     Y  \n",
      "189              0              0            2       2    2.0     Y  \n",
      "190              0              0           15      15   15.0     Y  \n",
      "191              0              0           26      26   26.0     Y  \n",
      "\n",
      "[242325 rows x 9 columns]\n"
     ]
    }
   ],
   "source": [
    "#all_chrom.drop(['_id'], axis=1)\n",
    "del all_chrom['_id']"
   ]
  },
  {
   "cell_type": "code",
   "execution_count": 197,
   "metadata": {
    "collapsed": true
   },
   "outputs": [],
   "source": [
    "import os\n",
    "os.chdir(\"/home/ethel/Documents/all chrom\")\n",
    "all_chrom.to_csv(\"all_chr_singelton.csv\")"
   ]
  },
  {
   "cell_type": "code",
   "execution_count": null,
   "metadata": {
    "collapsed": true
   },
   "outputs": [],
   "source": []
  },
  {
   "cell_type": "code",
   "execution_count": null,
   "metadata": {
    "collapsed": true
   },
   "outputs": [],
   "source": []
  }
 ],
 "metadata": {
  "kernelspec": {
   "display_name": "Python 3",
   "language": "python",
   "name": "python3"
  },
  "language_info": {
   "codemirror_mode": {
    "name": "ipython",
    "version": 3
   },
   "file_extension": ".py",
   "mimetype": "text/x-python",
   "name": "python",
   "nbconvert_exporter": "python",
   "pygments_lexer": "ipython3",
   "version": "3.8.8"
  }
 },
 "nbformat": 4,
 "nbformat_minor": 2
}
